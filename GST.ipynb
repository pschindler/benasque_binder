{
 "cells": [
  {
   "cell_type": "markdown",
   "metadata": {},
   "source": [
    "# Getting started with pyGSTi and Gate Set Tomography"
   ]
  },
  {
   "cell_type": "markdown",
   "metadata": {},
   "source": [
    "The `pygsti` package provides multiple levels of abstraction over the core Gate Set Tomography (GST) algorithms.  This initial tutorial will show you how to run Gate Set Tomography on some simulated (generated) data, hopefully giving you an overall sense of what it takes (and how easy it is!) to run GST.  Subsequent tutorials will delve into the details of `pygsti` objects and algorithms, and how to use them in detail.\n",
    "\n",
    "To run GST, we need three inputs:\n",
    "1. a \"**target gate set**\" which describes the desired, or ideal, operations we want our experimental hardware to perform.  In the example below, we use one of pyGSTi's \"standard\" gate sets - the on acting on a single qubit with the following operations:\n",
    "    - three gates: the identity, and $\\pi/2$ rotations around the $x$- and $y$-axes.\n",
    "    - a single state preparation in the $|0\\rangle$ state.\n",
    "    - a 2-outcome measurement with the label \"0\" associated with measuring $|0\\rangle$ and \"1\" with measuring $|1\\rangle$.\n",
    "    \n",
    "2. a list of GST sequences corresponding to the target gate set; essentially a list of what experiments (= gate sequences) we need to run.  Using a standard gate set makes things especially straightforward here, since the building blocks, called *germ* and *fiducial* sequences needed to make good GST sequences have already been computed.\n",
    "\n",
    "3. data, in the form of experimental outcome counts, for each of the required sequences.  \n"
   ]
  },
  {
   "cell_type": "code",
   "execution_count": 17,
   "metadata": {},
   "outputs": [
    {
     "name": "stdout",
     "output_type": "stream",
     "text": [
      "Loading Dataset_gst20160606.txt: 100%\n"
     ]
    }
   ],
   "source": [
    "#Make print statements compatible with Python 2 and 3\n",
    "from __future__ import print_function\n",
    "\n",
    "#Import the pygsti module (always do this) and the standard XYI gate set\n",
    "import pygsti\n",
    "from pygsti.construction import std1Q_XYI\n",
    "\n",
    "# 1) get the target GateSet\n",
    "gs_target = std1Q_XYI.gs_target\n",
    "\n",
    "germs = pygsti.construction.gatestring_list( [('Gx',), ('Gy',), ('Gi',), ('Gx', 'Gy',),\n",
    "        ('Gx', 'Gy', 'Gi',), ('Gx', 'Gi', 'Gy',), ('Gx', 'Gi', 'Gi',), ('Gy', 'Gi', 'Gi',),\n",
    "        ('Gx', 'Gx', 'Gi', 'Gy',), ('Gx', 'Gy', 'Gy', 'Gi',), #)])\n",
    "        ('Gx', 'Gx', 'Gy', 'Gx', 'Gy', 'Gy',)] )\n",
    "\n",
    "fiducials = pygsti.construction.gatestring_list( [ (), ('Gx',), ('Gy',), ('Gx','Gx')])\n",
    "\n",
    "\n",
    "# 2) get the building blocks needed to specify which gate sequences are needed\n",
    "\n",
    "prep_fiducials, meas_fiducials = fiducials, fiducials\n",
    "germs = germs\n",
    "\n",
    "maxLengths = [2,4,8,16,32,64,128]\n",
    "#maxLengths = [0,2]\n",
    "\n",
    "ds = pygsti.io.load_dataset('Dataset_gst20160606.txt')\n"
   ]
  },
  {
   "cell_type": "markdown",
   "metadata": {},
   "source": [
    "Now that we have all of the inputs, we can run GST in a standard way using the `do_stdpractice_gst` high-level driver function.  This returns a `pygsti.report.Results` object, from which we can generate a report giving us a summary of the analysis.   "
   ]
  },
  {
   "cell_type": "code",
   "execution_count": 18,
   "metadata": {},
   "outputs": [
    {
     "name": "stdout",
     "output_type": "stream",
     "text": [
      "-- Std Practice:  Iter 1 of 3  (TP) --: \n",
      "  --- Gate Sequence Creation ---\n",
      "  --- LGST ---\n",
      "  --- Iterative MLGST: [##################################################] 100.0%  1054 gate strings ---\n",
      "  Iterative MLGST Total Time: 16.7s\n",
      "  --- Re-optimizing logl after robust data scaling ---\n",
      "  -- Performing 'single' gauge optimization on TP estimate --\n",
      "  -- Performing 'single' gauge optimization on TP.Robust+ estimate --\n",
      "-- Std Practice:  Iter 2 of 3  (CPTP) --: \n",
      "  --- Gate Sequence Creation ---\n",
      "  --- Iterative MLGST: [##################################################] 100.0%  1054 gate strings ---\n",
      "  Iterative MLGST Total Time: 20.3s\n",
      "  --- Re-optimizing logl after robust data scaling ---\n",
      "  -- Performing 'single' gauge optimization on CPTP estimate --\n",
      "  -- Performing 'single' gauge optimization on CPTP.Robust+ estimate --\n",
      "-- Std Practice:  Iter 3 of 3  (Target) --: \n",
      "  --- Gate Sequence Creation ---\n",
      "  -- Performing 'single' gauge optimization on Target estimate --\n",
      "*** Creating workspace ***\n",
      "*** Generating switchboard ***\n",
      "Found standard clifford compilation from std1Q_XYI\n",
      "Found standard clifford compilation from std1Q_XYI\n",
      "Found standard clifford compilation from std1Q_XYI\n",
      "*** Generating tables ***\n",
      "  targetSpamBriefTable                          took 0.070386 seconds\n",
      "  targetGatesBoxTable                           took 0.084521 seconds\n",
      "  datasetOverviewTable                          took 0.102944 seconds\n",
      "  bestGatesetSpamParametersTable                took 0.002027 seconds\n",
      "  bestGatesetSpamBriefTable                     took 0.103796 seconds\n",
      "  bestGatesetSpamVsTargetTable                  took 0.214845 seconds\n",
      "  bestGatesetGaugeOptParamsTable                took 0.00247 seconds\n",
      "  bestGatesetGatesBoxTable                      took 0.116399 seconds\n",
      "  bestGatesetChoiEvalTable                      took 0.119354 seconds\n",
      "  bestGatesetDecompTable                        took 0.276763 seconds\n",
      "  bestGatesetEvalTable                          took 0.054247 seconds\n",
      "  bestGermsEvalTable                            took 0.092061 seconds\n",
      "  bestGatesetVsTargetTable                      took 0.513088 seconds\n",
      "  bestGatesVsTargetTable_gv                     took 0.578908 seconds\n",
      "  bestGatesVsTargetTable_gvgerms                took 0.288346 seconds\n",
      "  bestGatesVsTargetTable_gi                     took 0.121067 seconds\n",
      "  bestGatesVsTargetTable_gigerms                took 0.116949 seconds\n",
      "  bestGatesVsTargetTable_sum                    took 0.781839 seconds\n",
      "  bestGatesetErrGenBoxTable                     took 0.39312 seconds\n",
      "  metadataTable                                 took 0.034549 seconds\n",
      "  stdoutBlock                                   took 0.000402 seconds\n",
      "  profilerTable                                 took 0.00388 seconds\n",
      "  softwareEnvTable                              took 0.001988 seconds\n",
      "  exampleTable                                  took 0.015313 seconds\n",
      "  singleMetricTable_gv                          took 0.517905 seconds\n",
      "  singleMetricTable_gi                          took 0.04586 seconds\n",
      "  fiducialListTable                             took 0.001393 seconds\n",
      "  prepStrListTable                              took 0.000244 seconds\n",
      "  effectStrListTable                            took 0.000253 seconds\n",
      "  colorBoxPlotKeyPlot                           took 0.018427 seconds\n",
      "  germList2ColTable                             took 0.000332 seconds\n",
      "  progressTable                                 took 10.977416 seconds\n",
      "*** Generating plots ***\n",
      "  gramBarPlot                                   took 0.105307 seconds\n",
      "  progressBarPlot                               took 0.748179 seconds\n",
      "  progressBarPlot_sum                           took 0.002677 seconds\n",
      "  finalFitComparePlot                           took 0.169119 seconds\n",
      "  bestEstimateColorBoxPlot                      took 47.508058 seconds\n",
      "  bestEstimateTVDColorBoxPlot                   took 50.411247 seconds\n",
      "  bestEstimateColorScatterPlot                  took 51.81284 seconds\n",
      "  bestEstimateColorHistogram                    took 39.596764 seconds\n",
      "  progressTable_scl                             took 8.008405 seconds\n",
      "  progressBarPlot_scl                           took 0.520174 seconds\n",
      "  bestEstimateColorBoxPlot_scl                  took 30.407054 seconds\n",
      "  bestEstimateColorScatterPlot_scl              took 35.354186 seconds\n",
      "  bestEstimateColorHistogram_scl                took 35.393626 seconds\n",
      "  dataScalingColorBoxPlot                       took 0.116494 seconds\n",
      "*** Merging into template file ***\n",
      "  Rendering metricSwitchboard_gi                took 0.000717 seconds\n",
      "  Rendering prepStrListTable                    took 0.003098 seconds\n",
      "  Rendering singleMetricTable_gi                took 0.007329 seconds\n",
      "  Rendering bestGatesetEvalTable                took 0.039102 seconds\n",
      "  Rendering bestGatesetGaugeOptParamsTable      took 0.00117 seconds\n",
      "  Rendering bestEstimateColorScatterPlot_scl    took 0.282621 seconds\n",
      "  Rendering bestGatesetGatesBoxTable            took 0.065836 seconds\n",
      "  Rendering maxLSwitchboard1                    took 0.000366 seconds\n",
      "  Rendering singleMetricTable_gv                took 0.00784 seconds\n",
      "  Rendering bestGatesVsTargetTable_gigerms      took 0.008297 seconds\n",
      "  Rendering effectStrListTable                  took 0.001206 seconds\n",
      "  Rendering bestGatesetSpamVsTargetTable        took 0.007661 seconds\n",
      "  Rendering progressBarPlot_scl                 took 0.004605 seconds\n",
      "  Rendering bestEstimateColorScatterPlot        took 0.201876 seconds\n",
      "  Rendering colorBoxPlotKeyPlot                 took 0.006222 seconds\n",
      "  Rendering bestGatesetChoiEvalTable            took 0.052362 seconds\n",
      "  Rendering metricSwitchboard_gv                took 9.5e-05 seconds\n",
      "  Rendering progressTable                       took 0.01767 seconds\n",
      "  Rendering dataScalingColorBoxPlot             took 0.014372 seconds\n",
      "  Rendering bestGatesVsTargetTable_gi           took 0.008039 seconds\n",
      "  Rendering stdoutBlock                         took 0.000909 seconds\n",
      "  Rendering bestGatesVsTargetTable_gv           took 0.007866 seconds\n",
      "  Rendering topSwitchboard                      took 0.000262 seconds\n",
      "  Rendering bestEstimateColorBoxPlot_scl        took 0.083266 seconds\n",
      "  Rendering targetGatesBoxTable                 took 0.032177 seconds\n",
      "  Rendering softwareEnvTable                    took 0.003136 seconds\n",
      "  Rendering bestGatesVsTargetTable_gvgerms      took 0.0126 seconds\n",
      "  Rendering bestEstimateTVDColorBoxPlot         took 0.125466 seconds\n",
      "  Rendering datasetOverviewTable                took 0.000694 seconds\n",
      "  Rendering targetSpamBriefTable                took 0.035185 seconds\n",
      "  Rendering bestEstimateColorHistogram          took 0.08229 seconds\n",
      "  Rendering bestGermsEvalTable                  took 0.150176 seconds\n",
      "  Rendering finalFitComparePlot                 took 0.004302 seconds\n",
      "  Rendering bestGatesetVsTargetTable            took 0.002414 seconds\n",
      "  Rendering fiducialListTable                   took 0.002771 seconds\n",
      "  Rendering germList2ColTable                   took 0.002454 seconds\n",
      "  Rendering progressBarPlot_sum                 took 0.003469 seconds\n",
      "  Rendering bestGatesetErrGenBoxTable           took 0.130858 seconds\n",
      "  Rendering bestEstimateColorBoxPlot            took 0.125787 seconds\n",
      "  Rendering progressTable_scl                   took 0.012333 seconds\n",
      "  Rendering profilerTable                       took 0.002806 seconds\n",
      "  Rendering exampleTable                        took 0.004857 seconds\n",
      "  Rendering bestGatesetSpamBriefTable           took 0.07623 seconds\n",
      "  Rendering progressBarPlot                     took 0.005633 seconds\n",
      "  Rendering bestGatesetSpamParametersTable      took 0.005373 seconds\n",
      "  Rendering metadataTable                       took 0.013738 seconds\n",
      "  Rendering bestGatesetDecompTable              took 0.070508 seconds\n",
      "  Rendering bestGatesVsTargetTable_sum          took 0.006394 seconds\n",
      "  Rendering bestEstimateColorHistogram_scl      took 0.053726 seconds\n",
      "  Rendering gramBarPlot                         took 0.004484 seconds\n",
      "Output written to reports/ directory\n",
      "*** Report Generation Complete!  Total time 318.362s ***\n"
     ]
    },
    {
     "data": {
      "text/plain": [
       "<pygsti.report.workspace.Workspace at 0x7f8a018e5410>"
      ]
     },
     "execution_count": 18,
     "metadata": {},
     "output_type": "execute_result"
    }
   ],
   "source": [
    "#Run GST and create a report\n",
    "results = pygsti.do_stdpractice_gst(ds, gs_target, prep_fiducials, meas_fiducials, germs, maxLengths)\n",
    "pygsti.report.create_standard_report(results, filename=\"reports/\",\n",
    "                                    title=\"test123\", verbosity=2)"
   ]
  },
  {
   "cell_type": "markdown",
   "metadata": {},
   "source": [
    "You can now open the file [tutorial_files/gettingStartedReport/main.html](tutorial_files/gettingStartedReport/main.html) in your browser to view the report.  **That's it!  You've just run GST!**\n",
    "\n",
    "The other tutorials in this directory will explain how to use the various objects and algorithms that comprise pyGSTi. These **tutorial notebooks are meant to be fairly pedagogical** and include details about the inner workings of and design choices within pyGSTi.  In contrast, the **\"FAQ\" directory contains notebooks with attempt to address specific questions as quickly and directly as possible, with little or no explanation of related topics or broader context**. "
   ]
  },
  {
   "cell_type": "code",
   "execution_count": null,
   "metadata": {},
   "outputs": [],
   "source": []
  }
 ],
 "metadata": {
  "kernelspec": {
   "display_name": "Python 2",
   "language": "python",
   "name": "python2"
  },
  "language_info": {
   "codemirror_mode": {
    "name": "ipython",
    "version": 2
   },
   "file_extension": ".py",
   "mimetype": "text/x-python",
   "name": "python",
   "nbconvert_exporter": "python",
   "pygments_lexer": "ipython2",
   "version": "2.7.15rc1"
  }
 },
 "nbformat": 4,
 "nbformat_minor": 1
}
